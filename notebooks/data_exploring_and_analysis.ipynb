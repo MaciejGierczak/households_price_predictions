{
 "cells": [
  {
   "cell_type": "code",
   "execution_count": 45,
   "metadata": {
    "collapsed": true,
    "ExecuteTime": {
     "end_time": "2024-08-21T11:47:01.948267700Z",
     "start_time": "2024-08-21T11:47:01.944769600Z"
    }
   },
   "outputs": [],
   "source": [
    "import pandas as pd\n",
    "import os\n",
    "import numpy as np\n",
    "FOLDER_PATH=\"../raw_data\""
   ]
  },
  {
   "cell_type": "code",
   "execution_count": 46,
   "outputs": [],
   "source": [
    "csv_files=[f for f in os.listdir(FOLDER_PATH) if f.endswith('.csv')]"
   ],
   "metadata": {
    "collapsed": false,
    "ExecuteTime": {
     "end_time": "2024-08-21T11:47:02.056718500Z",
     "start_time": "2024-08-21T11:47:01.948267700Z"
    }
   }
  },
  {
   "cell_type": "code",
   "execution_count": 47,
   "outputs": [],
   "source": [
    "apartments_list=[pd.read_csv(os.path.join(FOLDER_PATH,file)) for file in csv_files]"
   ],
   "metadata": {
    "collapsed": false,
    "ExecuteTime": {
     "end_time": "2024-08-21T11:47:02.851093800Z",
     "start_time": "2024-08-21T11:47:02.059711300Z"
    }
   }
  },
  {
   "cell_type": "code",
   "execution_count": 48,
   "outputs": [],
   "source": [
    "houses_dataframe=pd.concat(apartments_list,ignore_index=True)"
   ],
   "metadata": {
    "collapsed": false,
    "ExecuteTime": {
     "end_time": "2024-08-21T11:47:02.879301400Z",
     "start_time": "2024-08-21T11:47:02.852091400Z"
    }
   }
  },
  {
   "cell_type": "code",
   "execution_count": 49,
   "outputs": [
    {
     "data": {
      "text/plain": "                                      id       city          type  \\\n0       f8524536d4b09a0c8ccc0197ec9d7bde   szczecin  blockOfFlats   \n1       accbe77d4b360fea9735f138a50608dd   szczecin  blockOfFlats   \n2       8373aa373dbc3fe7ca3b7434166b8766   szczecin      tenement   \n3       0a68cd14c44ec5140143ece75d739535   szczecin      tenement   \n4       f66320e153c2441edc0fe293b54c8aeb   szczecin  blockOfFlats   \n...                                  ...        ...           ...   \n195563  ca83fdbc19c1e62e1cc6b6b21dcd5e03  bydgoszcz           NaN   \n195564  204c93689b7cdc62a17ef3c0dbf7034a  bydgoszcz      tenement   \n195565  bb19da639a2de8bba49be2ca49053c87  bydgoszcz      tenement   \n195566  1e7f4f1fdfea31eb84e071d697839632  bydgoszcz           NaN   \n195567  60fcbfa2a2a48ebcc2e554efba7f2729  bydgoszcz      tenement   \n\n        squareMeters  rooms  floor  floorCount  buildYear   latitude  \\\n0              63.00    3.0    4.0        10.0     1980.0  53.378933   \n1              36.00    2.0    8.0        10.0        NaN  53.442692   \n2              73.02    3.0    2.0         3.0        NaN  53.452222   \n3              87.60    3.0    2.0         3.0        NaN  53.435100   \n4              66.00    3.0    1.0         3.0        NaN  53.410278   \n...              ...    ...    ...         ...        ...        ...   \n195563         54.00    3.0    4.0         4.0        NaN  53.126520   \n195564         98.00    3.0    NaN         2.0     1925.0  53.124655   \n195565        108.96    5.0    2.0         4.0     1889.0  53.131748   \n195566         50.12    2.0    1.0         1.0        NaN  53.129657   \n195567         59.10    2.0    1.0         1.0     1910.0  53.126792   \n\n        longitude  ...  pharmacyDistance    ownership  buildingMaterial  \\\n0       14.625296  ...             0.413  condominium      concreteSlab   \n1       14.559690  ...             0.205  cooperative      concreteSlab   \n2       14.553333  ...             0.280  condominium             brick   \n3       14.532900  ...             0.087  condominium             brick   \n4       14.503611  ...             0.514  condominium               NaN   \n...           ...  ...               ...          ...               ...   \n195563  18.045220  ...             0.062  condominium               NaN   \n195564  18.008459  ...             0.273  condominium             brick   \n195565  18.000648  ...             0.143  condominium             brick   \n195566  18.003888  ...             0.250  condominium             brick   \n195567  18.005991  ...             0.101  condominium             brick   \n\n        condition  hasParkingSpace  hasBalcony  hasElevator  hasSecurity  \\\n0             NaN              yes         yes          yes           no   \n1             NaN               no         yes          yes           no   \n2             NaN               no          no           no           no   \n3             NaN              yes         yes           no           no   \n4             NaN               no          no           no           no   \n...           ...              ...         ...          ...          ...   \n195563        NaN               no         yes           no           no   \n195564        NaN               no          no           no           no   \n195565        NaN               no          no           no           no   \n195566        NaN              yes          no           no           no   \n195567        NaN              yes          no           no           no   \n\n        hasStorageRoom   price  \n0                  yes  415000  \n1                  yes  395995  \n2                   no  565000  \n3                  yes  640000  \n4                   no  759000  \n...                ...     ...  \n195563             yes  460000  \n195564             yes  499000  \n195565             yes  795000  \n195566              no  360000  \n195567             yes  300000  \n\n[195568 rows x 28 columns]",
      "text/html": "<div>\n<style scoped>\n    .dataframe tbody tr th:only-of-type {\n        vertical-align: middle;\n    }\n\n    .dataframe tbody tr th {\n        vertical-align: top;\n    }\n\n    .dataframe thead th {\n        text-align: right;\n    }\n</style>\n<table border=\"1\" class=\"dataframe\">\n  <thead>\n    <tr style=\"text-align: right;\">\n      <th></th>\n      <th>id</th>\n      <th>city</th>\n      <th>type</th>\n      <th>squareMeters</th>\n      <th>rooms</th>\n      <th>floor</th>\n      <th>floorCount</th>\n      <th>buildYear</th>\n      <th>latitude</th>\n      <th>longitude</th>\n      <th>...</th>\n      <th>pharmacyDistance</th>\n      <th>ownership</th>\n      <th>buildingMaterial</th>\n      <th>condition</th>\n      <th>hasParkingSpace</th>\n      <th>hasBalcony</th>\n      <th>hasElevator</th>\n      <th>hasSecurity</th>\n      <th>hasStorageRoom</th>\n      <th>price</th>\n    </tr>\n  </thead>\n  <tbody>\n    <tr>\n      <th>0</th>\n      <td>f8524536d4b09a0c8ccc0197ec9d7bde</td>\n      <td>szczecin</td>\n      <td>blockOfFlats</td>\n      <td>63.00</td>\n      <td>3.0</td>\n      <td>4.0</td>\n      <td>10.0</td>\n      <td>1980.0</td>\n      <td>53.378933</td>\n      <td>14.625296</td>\n      <td>...</td>\n      <td>0.413</td>\n      <td>condominium</td>\n      <td>concreteSlab</td>\n      <td>NaN</td>\n      <td>yes</td>\n      <td>yes</td>\n      <td>yes</td>\n      <td>no</td>\n      <td>yes</td>\n      <td>415000</td>\n    </tr>\n    <tr>\n      <th>1</th>\n      <td>accbe77d4b360fea9735f138a50608dd</td>\n      <td>szczecin</td>\n      <td>blockOfFlats</td>\n      <td>36.00</td>\n      <td>2.0</td>\n      <td>8.0</td>\n      <td>10.0</td>\n      <td>NaN</td>\n      <td>53.442692</td>\n      <td>14.559690</td>\n      <td>...</td>\n      <td>0.205</td>\n      <td>cooperative</td>\n      <td>concreteSlab</td>\n      <td>NaN</td>\n      <td>no</td>\n      <td>yes</td>\n      <td>yes</td>\n      <td>no</td>\n      <td>yes</td>\n      <td>395995</td>\n    </tr>\n    <tr>\n      <th>2</th>\n      <td>8373aa373dbc3fe7ca3b7434166b8766</td>\n      <td>szczecin</td>\n      <td>tenement</td>\n      <td>73.02</td>\n      <td>3.0</td>\n      <td>2.0</td>\n      <td>3.0</td>\n      <td>NaN</td>\n      <td>53.452222</td>\n      <td>14.553333</td>\n      <td>...</td>\n      <td>0.280</td>\n      <td>condominium</td>\n      <td>brick</td>\n      <td>NaN</td>\n      <td>no</td>\n      <td>no</td>\n      <td>no</td>\n      <td>no</td>\n      <td>no</td>\n      <td>565000</td>\n    </tr>\n    <tr>\n      <th>3</th>\n      <td>0a68cd14c44ec5140143ece75d739535</td>\n      <td>szczecin</td>\n      <td>tenement</td>\n      <td>87.60</td>\n      <td>3.0</td>\n      <td>2.0</td>\n      <td>3.0</td>\n      <td>NaN</td>\n      <td>53.435100</td>\n      <td>14.532900</td>\n      <td>...</td>\n      <td>0.087</td>\n      <td>condominium</td>\n      <td>brick</td>\n      <td>NaN</td>\n      <td>yes</td>\n      <td>yes</td>\n      <td>no</td>\n      <td>no</td>\n      <td>yes</td>\n      <td>640000</td>\n    </tr>\n    <tr>\n      <th>4</th>\n      <td>f66320e153c2441edc0fe293b54c8aeb</td>\n      <td>szczecin</td>\n      <td>blockOfFlats</td>\n      <td>66.00</td>\n      <td>3.0</td>\n      <td>1.0</td>\n      <td>3.0</td>\n      <td>NaN</td>\n      <td>53.410278</td>\n      <td>14.503611</td>\n      <td>...</td>\n      <td>0.514</td>\n      <td>condominium</td>\n      <td>NaN</td>\n      <td>NaN</td>\n      <td>no</td>\n      <td>no</td>\n      <td>no</td>\n      <td>no</td>\n      <td>no</td>\n      <td>759000</td>\n    </tr>\n    <tr>\n      <th>...</th>\n      <td>...</td>\n      <td>...</td>\n      <td>...</td>\n      <td>...</td>\n      <td>...</td>\n      <td>...</td>\n      <td>...</td>\n      <td>...</td>\n      <td>...</td>\n      <td>...</td>\n      <td>...</td>\n      <td>...</td>\n      <td>...</td>\n      <td>...</td>\n      <td>...</td>\n      <td>...</td>\n      <td>...</td>\n      <td>...</td>\n      <td>...</td>\n      <td>...</td>\n      <td>...</td>\n    </tr>\n    <tr>\n      <th>195563</th>\n      <td>ca83fdbc19c1e62e1cc6b6b21dcd5e03</td>\n      <td>bydgoszcz</td>\n      <td>NaN</td>\n      <td>54.00</td>\n      <td>3.0</td>\n      <td>4.0</td>\n      <td>4.0</td>\n      <td>NaN</td>\n      <td>53.126520</td>\n      <td>18.045220</td>\n      <td>...</td>\n      <td>0.062</td>\n      <td>condominium</td>\n      <td>NaN</td>\n      <td>NaN</td>\n      <td>no</td>\n      <td>yes</td>\n      <td>no</td>\n      <td>no</td>\n      <td>yes</td>\n      <td>460000</td>\n    </tr>\n    <tr>\n      <th>195564</th>\n      <td>204c93689b7cdc62a17ef3c0dbf7034a</td>\n      <td>bydgoszcz</td>\n      <td>tenement</td>\n      <td>98.00</td>\n      <td>3.0</td>\n      <td>NaN</td>\n      <td>2.0</td>\n      <td>1925.0</td>\n      <td>53.124655</td>\n      <td>18.008459</td>\n      <td>...</td>\n      <td>0.273</td>\n      <td>condominium</td>\n      <td>brick</td>\n      <td>NaN</td>\n      <td>no</td>\n      <td>no</td>\n      <td>no</td>\n      <td>no</td>\n      <td>yes</td>\n      <td>499000</td>\n    </tr>\n    <tr>\n      <th>195565</th>\n      <td>bb19da639a2de8bba49be2ca49053c87</td>\n      <td>bydgoszcz</td>\n      <td>tenement</td>\n      <td>108.96</td>\n      <td>5.0</td>\n      <td>2.0</td>\n      <td>4.0</td>\n      <td>1889.0</td>\n      <td>53.131748</td>\n      <td>18.000648</td>\n      <td>...</td>\n      <td>0.143</td>\n      <td>condominium</td>\n      <td>brick</td>\n      <td>NaN</td>\n      <td>no</td>\n      <td>no</td>\n      <td>no</td>\n      <td>no</td>\n      <td>yes</td>\n      <td>795000</td>\n    </tr>\n    <tr>\n      <th>195566</th>\n      <td>1e7f4f1fdfea31eb84e071d697839632</td>\n      <td>bydgoszcz</td>\n      <td>NaN</td>\n      <td>50.12</td>\n      <td>2.0</td>\n      <td>1.0</td>\n      <td>1.0</td>\n      <td>NaN</td>\n      <td>53.129657</td>\n      <td>18.003888</td>\n      <td>...</td>\n      <td>0.250</td>\n      <td>condominium</td>\n      <td>brick</td>\n      <td>NaN</td>\n      <td>yes</td>\n      <td>no</td>\n      <td>no</td>\n      <td>no</td>\n      <td>no</td>\n      <td>360000</td>\n    </tr>\n    <tr>\n      <th>195567</th>\n      <td>60fcbfa2a2a48ebcc2e554efba7f2729</td>\n      <td>bydgoszcz</td>\n      <td>tenement</td>\n      <td>59.10</td>\n      <td>2.0</td>\n      <td>1.0</td>\n      <td>1.0</td>\n      <td>1910.0</td>\n      <td>53.126792</td>\n      <td>18.005991</td>\n      <td>...</td>\n      <td>0.101</td>\n      <td>condominium</td>\n      <td>brick</td>\n      <td>NaN</td>\n      <td>yes</td>\n      <td>no</td>\n      <td>no</td>\n      <td>no</td>\n      <td>yes</td>\n      <td>300000</td>\n    </tr>\n  </tbody>\n</table>\n<p>195568 rows × 28 columns</p>\n</div>"
     },
     "execution_count": 49,
     "metadata": {},
     "output_type": "execute_result"
    }
   ],
   "source": [
    "houses_dataframe"
   ],
   "metadata": {
    "collapsed": false,
    "ExecuteTime": {
     "end_time": "2024-08-21T11:47:03.141317200Z",
     "start_time": "2024-08-21T11:47:02.880298400Z"
    }
   }
  },
  {
   "cell_type": "code",
   "execution_count": 50,
   "outputs": [
    {
     "data": {
      "text/plain": "id                           0\ncity                         0\ntype                     42261\nsquareMeters                 0\nrooms                        0\nfloor                    34594\nfloorCount                2383\nbuildYear                32216\nlatitude                     0\nlongitude                    0\ncentreDistance               0\npoiCount                     0\nschoolDistance             168\nclinicDistance             728\npostOfficeDistance         248\nkindergartenDistance       207\nrestaurantDistance         479\ncollegeDistance           5436\npharmacyDistance           277\nownership                    0\nbuildingMaterial         77382\ncondition               146307\nhasParkingSpace              0\nhasBalcony                   0\nhasElevator               9702\nhasSecurity                  0\nhasStorageRoom               0\nprice                        0\ndtype: int64"
     },
     "execution_count": 50,
     "metadata": {},
     "output_type": "execute_result"
    }
   ],
   "source": [
    "houses_dataframe.isna().sum()"
   ],
   "metadata": {
    "collapsed": false,
    "ExecuteTime": {
     "end_time": "2024-08-21T11:47:03.292788300Z",
     "start_time": "2024-08-21T11:47:03.138326300Z"
    }
   }
  },
  {
   "cell_type": "code",
   "execution_count": 51,
   "outputs": [
    {
     "data": {
      "text/plain": "city\nwarszawa       59246\nkrakow         29026\nwroclaw        20200\ngdansk         19210\nlodz           15300\nbydgoszcz       9547\ngdynia          8164\npoznan          7705\nszczecin        6331\nlublin          5704\nkatowice        5284\nradom           2929\nczestochowa     2657\nbialystok       2464\nrzeszow         1801\nName: count, dtype: int64"
     },
     "execution_count": 51,
     "metadata": {},
     "output_type": "execute_result"
    }
   ],
   "source": [
    "houses_dataframe['city'].value_counts(dropna=False)"
   ],
   "metadata": {
    "collapsed": false,
    "ExecuteTime": {
     "end_time": "2024-08-21T11:47:03.293786300Z",
     "start_time": "2024-08-21T11:47:03.251661400Z"
    }
   }
  },
  {
   "cell_type": "code",
   "execution_count": 52,
   "outputs": [
    {
     "data": {
      "text/plain": "type\nblockOfFlats         91368\nNaN                  42261\napartmentBuilding    32507\ntenement             29432\nName: count, dtype: int64"
     },
     "execution_count": 52,
     "metadata": {},
     "output_type": "execute_result"
    }
   ],
   "source": [
    "houses_dataframe['type'].value_counts(dropna=False)"
   ],
   "metadata": {
    "collapsed": false,
    "ExecuteTime": {
     "end_time": "2024-08-21T11:47:03.718314200Z",
     "start_time": "2024-08-21T11:47:03.261775800Z"
    }
   }
  },
  {
   "cell_type": "code",
   "execution_count": 53,
   "outputs": [],
   "source": [
    "houses_dataframe=houses_dataframe[houses_dataframe['type'].notna()]"
   ],
   "metadata": {
    "collapsed": false,
    "ExecuteTime": {
     "end_time": "2024-08-21T11:47:03.978353300Z",
     "start_time": "2024-08-21T11:47:03.715320300Z"
    }
   }
  },
  {
   "cell_type": "code",
   "execution_count": 54,
   "outputs": [
    {
     "data": {
      "text/plain": "id                           0\ncity                         0\ntype                         0\nsquareMeters                 0\nrooms                        0\nfloor                    26235\nfloorCount                1086\nbuildYear                20837\nlatitude                     0\nlongitude                    0\ncentreDistance               0\npoiCount                     0\nschoolDistance             123\nclinicDistance             550\npostOfficeDistance         197\nkindergartenDistance       164\nrestaurantDistance         414\ncollegeDistance           4110\npharmacyDistance           236\nownership                    0\nbuildingMaterial         44519\ncondition               109235\nhasParkingSpace              0\nhasBalcony                   0\nhasElevator               5085\nhasSecurity                  0\nhasStorageRoom               0\nprice                        0\ndtype: int64"
     },
     "execution_count": 54,
     "metadata": {},
     "output_type": "execute_result"
    }
   ],
   "source": [
    "houses_dataframe.isna().sum()"
   ],
   "metadata": {
    "collapsed": false,
    "ExecuteTime": {
     "end_time": "2024-08-21T11:47:04.128763500Z",
     "start_time": "2024-08-21T11:47:03.980375800Z"
    }
   }
  },
  {
   "cell_type": "code",
   "execution_count": 55,
   "outputs": [
    {
     "data": {
      "text/plain": "                                      id       city          type  \\\n0       f8524536d4b09a0c8ccc0197ec9d7bde   szczecin  blockOfFlats   \n1       accbe77d4b360fea9735f138a50608dd   szczecin  blockOfFlats   \n2       8373aa373dbc3fe7ca3b7434166b8766   szczecin      tenement   \n3       0a68cd14c44ec5140143ece75d739535   szczecin      tenement   \n4       f66320e153c2441edc0fe293b54c8aeb   szczecin  blockOfFlats   \n...                                  ...        ...           ...   \n195561  43ba1ff7e0804730281149d62fc9a48b  bydgoszcz      tenement   \n195562  4d5c0e9d63750d4e7ff183460b3fc8d1  bydgoszcz      tenement   \n195564  204c93689b7cdc62a17ef3c0dbf7034a  bydgoszcz      tenement   \n195565  bb19da639a2de8bba49be2ca49053c87  bydgoszcz      tenement   \n195567  60fcbfa2a2a48ebcc2e554efba7f2729  bydgoszcz      tenement   \n\n        squareMeters  rooms  floor  floorCount  buildYear   latitude  \\\n0              63.00    3.0    4.0        10.0     1980.0  53.378933   \n1              36.00    2.0    8.0        10.0        NaN  53.442692   \n2              73.02    3.0    2.0         3.0        NaN  53.452222   \n3              87.60    3.0    2.0         3.0        NaN  53.435100   \n4              66.00    3.0    1.0         3.0        NaN  53.410278   \n...              ...    ...    ...         ...        ...        ...   \n195561         95.00    4.0    1.0         3.0     1893.0  53.126000   \n195562        100.76    3.0    NaN         2.0     1896.0  53.131234   \n195564         98.00    3.0    NaN         2.0     1925.0  53.124655   \n195565        108.96    5.0    2.0         4.0     1889.0  53.131748   \n195567         59.10    2.0    1.0         1.0     1910.0  53.126792   \n\n        longitude  ...  pharmacyDistance    ownership  buildingMaterial  \\\n0       14.625296  ...             0.413  condominium      concreteSlab   \n1       14.559690  ...             0.205  cooperative      concreteSlab   \n2       14.553333  ...             0.280  condominium             brick   \n3       14.532900  ...             0.087  condominium             brick   \n4       14.503611  ...             0.514  condominium               NaN   \n...           ...  ...               ...          ...               ...   \n195561  18.007900  ...             0.205  condominium             brick   \n195562  18.006248  ...             0.331  condominium             brick   \n195564  18.008459  ...             0.273  condominium             brick   \n195565  18.000648  ...             0.143  condominium             brick   \n195567  18.005991  ...             0.101  condominium             brick   \n\n        condition  hasParkingSpace  hasBalcony  hasElevator  hasSecurity  \\\n0             NaN              yes         yes          yes           no   \n1             NaN               no         yes          yes           no   \n2             NaN               no          no           no           no   \n3             NaN              yes         yes           no           no   \n4             NaN               no          no           no           no   \n...           ...              ...         ...          ...          ...   \n195561        low               no          no           no           no   \n195562        NaN              yes          no           no           no   \n195564        NaN               no          no           no           no   \n195565        NaN               no          no           no           no   \n195567        NaN              yes          no           no           no   \n\n        hasStorageRoom   price  \n0                  yes  415000  \n1                  yes  395995  \n2                   no  565000  \n3                  yes  640000  \n4                   no  759000  \n...                ...     ...  \n195561             yes  599000  \n195562             yes  670000  \n195564             yes  499000  \n195565             yes  795000  \n195567             yes  300000  \n\n[153307 rows x 28 columns]",
      "text/html": "<div>\n<style scoped>\n    .dataframe tbody tr th:only-of-type {\n        vertical-align: middle;\n    }\n\n    .dataframe tbody tr th {\n        vertical-align: top;\n    }\n\n    .dataframe thead th {\n        text-align: right;\n    }\n</style>\n<table border=\"1\" class=\"dataframe\">\n  <thead>\n    <tr style=\"text-align: right;\">\n      <th></th>\n      <th>id</th>\n      <th>city</th>\n      <th>type</th>\n      <th>squareMeters</th>\n      <th>rooms</th>\n      <th>floor</th>\n      <th>floorCount</th>\n      <th>buildYear</th>\n      <th>latitude</th>\n      <th>longitude</th>\n      <th>...</th>\n      <th>pharmacyDistance</th>\n      <th>ownership</th>\n      <th>buildingMaterial</th>\n      <th>condition</th>\n      <th>hasParkingSpace</th>\n      <th>hasBalcony</th>\n      <th>hasElevator</th>\n      <th>hasSecurity</th>\n      <th>hasStorageRoom</th>\n      <th>price</th>\n    </tr>\n  </thead>\n  <tbody>\n    <tr>\n      <th>0</th>\n      <td>f8524536d4b09a0c8ccc0197ec9d7bde</td>\n      <td>szczecin</td>\n      <td>blockOfFlats</td>\n      <td>63.00</td>\n      <td>3.0</td>\n      <td>4.0</td>\n      <td>10.0</td>\n      <td>1980.0</td>\n      <td>53.378933</td>\n      <td>14.625296</td>\n      <td>...</td>\n      <td>0.413</td>\n      <td>condominium</td>\n      <td>concreteSlab</td>\n      <td>NaN</td>\n      <td>yes</td>\n      <td>yes</td>\n      <td>yes</td>\n      <td>no</td>\n      <td>yes</td>\n      <td>415000</td>\n    </tr>\n    <tr>\n      <th>1</th>\n      <td>accbe77d4b360fea9735f138a50608dd</td>\n      <td>szczecin</td>\n      <td>blockOfFlats</td>\n      <td>36.00</td>\n      <td>2.0</td>\n      <td>8.0</td>\n      <td>10.0</td>\n      <td>NaN</td>\n      <td>53.442692</td>\n      <td>14.559690</td>\n      <td>...</td>\n      <td>0.205</td>\n      <td>cooperative</td>\n      <td>concreteSlab</td>\n      <td>NaN</td>\n      <td>no</td>\n      <td>yes</td>\n      <td>yes</td>\n      <td>no</td>\n      <td>yes</td>\n      <td>395995</td>\n    </tr>\n    <tr>\n      <th>2</th>\n      <td>8373aa373dbc3fe7ca3b7434166b8766</td>\n      <td>szczecin</td>\n      <td>tenement</td>\n      <td>73.02</td>\n      <td>3.0</td>\n      <td>2.0</td>\n      <td>3.0</td>\n      <td>NaN</td>\n      <td>53.452222</td>\n      <td>14.553333</td>\n      <td>...</td>\n      <td>0.280</td>\n      <td>condominium</td>\n      <td>brick</td>\n      <td>NaN</td>\n      <td>no</td>\n      <td>no</td>\n      <td>no</td>\n      <td>no</td>\n      <td>no</td>\n      <td>565000</td>\n    </tr>\n    <tr>\n      <th>3</th>\n      <td>0a68cd14c44ec5140143ece75d739535</td>\n      <td>szczecin</td>\n      <td>tenement</td>\n      <td>87.60</td>\n      <td>3.0</td>\n      <td>2.0</td>\n      <td>3.0</td>\n      <td>NaN</td>\n      <td>53.435100</td>\n      <td>14.532900</td>\n      <td>...</td>\n      <td>0.087</td>\n      <td>condominium</td>\n      <td>brick</td>\n      <td>NaN</td>\n      <td>yes</td>\n      <td>yes</td>\n      <td>no</td>\n      <td>no</td>\n      <td>yes</td>\n      <td>640000</td>\n    </tr>\n    <tr>\n      <th>4</th>\n      <td>f66320e153c2441edc0fe293b54c8aeb</td>\n      <td>szczecin</td>\n      <td>blockOfFlats</td>\n      <td>66.00</td>\n      <td>3.0</td>\n      <td>1.0</td>\n      <td>3.0</td>\n      <td>NaN</td>\n      <td>53.410278</td>\n      <td>14.503611</td>\n      <td>...</td>\n      <td>0.514</td>\n      <td>condominium</td>\n      <td>NaN</td>\n      <td>NaN</td>\n      <td>no</td>\n      <td>no</td>\n      <td>no</td>\n      <td>no</td>\n      <td>no</td>\n      <td>759000</td>\n    </tr>\n    <tr>\n      <th>...</th>\n      <td>...</td>\n      <td>...</td>\n      <td>...</td>\n      <td>...</td>\n      <td>...</td>\n      <td>...</td>\n      <td>...</td>\n      <td>...</td>\n      <td>...</td>\n      <td>...</td>\n      <td>...</td>\n      <td>...</td>\n      <td>...</td>\n      <td>...</td>\n      <td>...</td>\n      <td>...</td>\n      <td>...</td>\n      <td>...</td>\n      <td>...</td>\n      <td>...</td>\n      <td>...</td>\n    </tr>\n    <tr>\n      <th>195561</th>\n      <td>43ba1ff7e0804730281149d62fc9a48b</td>\n      <td>bydgoszcz</td>\n      <td>tenement</td>\n      <td>95.00</td>\n      <td>4.0</td>\n      <td>1.0</td>\n      <td>3.0</td>\n      <td>1893.0</td>\n      <td>53.126000</td>\n      <td>18.007900</td>\n      <td>...</td>\n      <td>0.205</td>\n      <td>condominium</td>\n      <td>brick</td>\n      <td>low</td>\n      <td>no</td>\n      <td>no</td>\n      <td>no</td>\n      <td>no</td>\n      <td>yes</td>\n      <td>599000</td>\n    </tr>\n    <tr>\n      <th>195562</th>\n      <td>4d5c0e9d63750d4e7ff183460b3fc8d1</td>\n      <td>bydgoszcz</td>\n      <td>tenement</td>\n      <td>100.76</td>\n      <td>3.0</td>\n      <td>NaN</td>\n      <td>2.0</td>\n      <td>1896.0</td>\n      <td>53.131234</td>\n      <td>18.006248</td>\n      <td>...</td>\n      <td>0.331</td>\n      <td>condominium</td>\n      <td>brick</td>\n      <td>NaN</td>\n      <td>yes</td>\n      <td>no</td>\n      <td>no</td>\n      <td>no</td>\n      <td>yes</td>\n      <td>670000</td>\n    </tr>\n    <tr>\n      <th>195564</th>\n      <td>204c93689b7cdc62a17ef3c0dbf7034a</td>\n      <td>bydgoszcz</td>\n      <td>tenement</td>\n      <td>98.00</td>\n      <td>3.0</td>\n      <td>NaN</td>\n      <td>2.0</td>\n      <td>1925.0</td>\n      <td>53.124655</td>\n      <td>18.008459</td>\n      <td>...</td>\n      <td>0.273</td>\n      <td>condominium</td>\n      <td>brick</td>\n      <td>NaN</td>\n      <td>no</td>\n      <td>no</td>\n      <td>no</td>\n      <td>no</td>\n      <td>yes</td>\n      <td>499000</td>\n    </tr>\n    <tr>\n      <th>195565</th>\n      <td>bb19da639a2de8bba49be2ca49053c87</td>\n      <td>bydgoszcz</td>\n      <td>tenement</td>\n      <td>108.96</td>\n      <td>5.0</td>\n      <td>2.0</td>\n      <td>4.0</td>\n      <td>1889.0</td>\n      <td>53.131748</td>\n      <td>18.000648</td>\n      <td>...</td>\n      <td>0.143</td>\n      <td>condominium</td>\n      <td>brick</td>\n      <td>NaN</td>\n      <td>no</td>\n      <td>no</td>\n      <td>no</td>\n      <td>no</td>\n      <td>yes</td>\n      <td>795000</td>\n    </tr>\n    <tr>\n      <th>195567</th>\n      <td>60fcbfa2a2a48ebcc2e554efba7f2729</td>\n      <td>bydgoszcz</td>\n      <td>tenement</td>\n      <td>59.10</td>\n      <td>2.0</td>\n      <td>1.0</td>\n      <td>1.0</td>\n      <td>1910.0</td>\n      <td>53.126792</td>\n      <td>18.005991</td>\n      <td>...</td>\n      <td>0.101</td>\n      <td>condominium</td>\n      <td>brick</td>\n      <td>NaN</td>\n      <td>yes</td>\n      <td>no</td>\n      <td>no</td>\n      <td>no</td>\n      <td>yes</td>\n      <td>300000</td>\n    </tr>\n  </tbody>\n</table>\n<p>153307 rows × 28 columns</p>\n</div>"
     },
     "execution_count": 55,
     "metadata": {},
     "output_type": "execute_result"
    }
   ],
   "source": [
    "houses_dataframe"
   ],
   "metadata": {
    "collapsed": false,
    "ExecuteTime": {
     "end_time": "2024-08-21T11:47:04.308234100Z",
     "start_time": "2024-08-21T11:47:04.129729200Z"
    }
   }
  },
  {
   "cell_type": "code",
   "execution_count": 56,
   "outputs": [],
   "source": [
    "floor_map=houses_dataframe.groupby('floorCount')['floor'].mean().round()\n",
    "dict_floor=floor_map.to_dict()"
   ],
   "metadata": {
    "collapsed": false,
    "ExecuteTime": {
     "end_time": "2024-08-21T11:47:04.360140Z",
     "start_time": "2024-08-21T11:47:04.306238800Z"
    }
   }
  },
  {
   "cell_type": "code",
   "execution_count": 57,
   "outputs": [],
   "source": [
    "build_year_map=houses_dataframe.groupby('type')['buildYear'].mean().round()\n",
    "dict_build_year=build_year_map.to_dict()"
   ],
   "metadata": {
    "collapsed": false,
    "ExecuteTime": {
     "end_time": "2024-08-21T11:47:04.543752500Z",
     "start_time": "2024-08-21T11:47:04.338782Z"
    }
   }
  },
  {
   "cell_type": "code",
   "execution_count": 58,
   "outputs": [],
   "source": [
    "floor_count_map=houses_dataframe.groupby('type')['floorCount'].mean().round()\n",
    "dict_floor_count=floor_count_map.to_dict()"
   ],
   "metadata": {
    "collapsed": false,
    "ExecuteTime": {
     "end_time": "2024-08-21T11:47:04.619434300Z",
     "start_time": "2024-08-21T11:47:04.500192500Z"
    }
   }
  },
  {
   "cell_type": "code",
   "execution_count": 59,
   "outputs": [
    {
     "name": "stderr",
     "output_type": "stream",
     "text": [
      "C:\\Users\\Maciej\\AppData\\Local\\Temp\\ipykernel_14604\\29759559.py:1: SettingWithCopyWarning: \n",
      "A value is trying to be set on a copy of a slice from a DataFrame.\n",
      "Try using .loc[row_indexer,col_indexer] = value instead\n",
      "\n",
      "See the caveats in the documentation: https://pandas.pydata.org/pandas-docs/stable/user_guide/indexing.html#returning-a-view-versus-a-copy\n",
      "  houses_dataframe['floorCount']=houses_dataframe['floorCount'].fillna(houses_dataframe['type'].map(dict_floor_count))\n",
      "C:\\Users\\Maciej\\AppData\\Local\\Temp\\ipykernel_14604\\29759559.py:2: SettingWithCopyWarning: \n",
      "A value is trying to be set on a copy of a slice from a DataFrame.\n",
      "Try using .loc[row_indexer,col_indexer] = value instead\n",
      "\n",
      "See the caveats in the documentation: https://pandas.pydata.org/pandas-docs/stable/user_guide/indexing.html#returning-a-view-versus-a-copy\n",
      "  houses_dataframe['floor']=houses_dataframe['floor'].fillna(houses_dataframe['floorCount'].map(dict_floor))\n",
      "C:\\Users\\Maciej\\AppData\\Local\\Temp\\ipykernel_14604\\29759559.py:3: SettingWithCopyWarning: \n",
      "A value is trying to be set on a copy of a slice from a DataFrame.\n",
      "Try using .loc[row_indexer,col_indexer] = value instead\n",
      "\n",
      "See the caveats in the documentation: https://pandas.pydata.org/pandas-docs/stable/user_guide/indexing.html#returning-a-view-versus-a-copy\n",
      "  houses_dataframe['buildYear']=houses_dataframe['buildYear'].fillna(houses_dataframe['type'].map(dict_build_year))\n"
     ]
    }
   ],
   "source": [
    "houses_dataframe['floorCount']=houses_dataframe['floorCount'].fillna(houses_dataframe['type'].map(dict_floor_count))\n",
    "houses_dataframe['floor']=houses_dataframe['floor'].fillna(houses_dataframe['floorCount'].map(dict_floor))\n",
    "houses_dataframe['buildYear']=houses_dataframe['buildYear'].fillna(houses_dataframe['type'].map(dict_build_year))"
   ],
   "metadata": {
    "collapsed": false,
    "ExecuteTime": {
     "end_time": "2024-08-21T11:47:04.751672800Z",
     "start_time": "2024-08-21T11:47:04.621461900Z"
    }
   }
  },
  {
   "cell_type": "code",
   "execution_count": 60,
   "outputs": [
    {
     "data": {
      "text/plain": "id                           0\ncity                         0\ntype                         0\nsquareMeters                 0\nrooms                        0\nfloor                        0\nfloorCount                   0\nbuildYear                    0\nlatitude                     0\nlongitude                    0\ncentreDistance               0\npoiCount                     0\nschoolDistance             123\nclinicDistance             550\npostOfficeDistance         197\nkindergartenDistance       164\nrestaurantDistance         414\ncollegeDistance           4110\npharmacyDistance           236\nownership                    0\nbuildingMaterial         44519\ncondition               109235\nhasParkingSpace              0\nhasBalcony                   0\nhasElevator               5085\nhasSecurity                  0\nhasStorageRoom               0\nprice                        0\ndtype: int64"
     },
     "execution_count": 60,
     "metadata": {},
     "output_type": "execute_result"
    }
   ],
   "source": [
    "houses_dataframe.isna().sum()"
   ],
   "metadata": {
    "collapsed": false,
    "ExecuteTime": {
     "end_time": "2024-08-21T11:47:05.255982800Z",
     "start_time": "2024-08-21T11:47:04.752671200Z"
    }
   }
  },
  {
   "cell_type": "code",
   "execution_count": 61,
   "outputs": [
    {
     "data": {
      "text/plain": "                                      id       city          type  \\\n0       f8524536d4b09a0c8ccc0197ec9d7bde   szczecin  blockOfFlats   \n1       accbe77d4b360fea9735f138a50608dd   szczecin  blockOfFlats   \n2       8373aa373dbc3fe7ca3b7434166b8766   szczecin      tenement   \n3       0a68cd14c44ec5140143ece75d739535   szczecin      tenement   \n4       f66320e153c2441edc0fe293b54c8aeb   szczecin  blockOfFlats   \n...                                  ...        ...           ...   \n195561  43ba1ff7e0804730281149d62fc9a48b  bydgoszcz      tenement   \n195562  4d5c0e9d63750d4e7ff183460b3fc8d1  bydgoszcz      tenement   \n195564  204c93689b7cdc62a17ef3c0dbf7034a  bydgoszcz      tenement   \n195565  bb19da639a2de8bba49be2ca49053c87  bydgoszcz      tenement   \n195567  60fcbfa2a2a48ebcc2e554efba7f2729  bydgoszcz      tenement   \n\n        squareMeters  rooms  floor  floorCount  buildYear   latitude  \\\n0              63.00    3.0    4.0        10.0     1980.0  53.378933   \n1              36.00    2.0    8.0        10.0     1990.0  53.442692   \n2              73.02    3.0    2.0         3.0     1928.0  53.452222   \n3              87.60    3.0    2.0         3.0     1928.0  53.435100   \n4              66.00    3.0    1.0         3.0     1990.0  53.410278   \n...              ...    ...    ...         ...        ...        ...   \n195561         95.00    4.0    1.0         3.0     1893.0  53.126000   \n195562        100.76    3.0    2.0         2.0     1896.0  53.131234   \n195564         98.00    3.0    2.0         2.0     1925.0  53.124655   \n195565        108.96    5.0    2.0         4.0     1889.0  53.131748   \n195567         59.10    2.0    1.0         1.0     1910.0  53.126792   \n\n        longitude  ...  pharmacyDistance    ownership  buildingMaterial  \\\n0       14.625296  ...             0.413  condominium      concreteSlab   \n1       14.559690  ...             0.205  cooperative      concreteSlab   \n2       14.553333  ...             0.280  condominium             brick   \n3       14.532900  ...             0.087  condominium             brick   \n4       14.503611  ...             0.514  condominium               NaN   \n...           ...  ...               ...          ...               ...   \n195561  18.007900  ...             0.205  condominium             brick   \n195562  18.006248  ...             0.331  condominium             brick   \n195564  18.008459  ...             0.273  condominium             brick   \n195565  18.000648  ...             0.143  condominium             brick   \n195567  18.005991  ...             0.101  condominium             brick   \n\n        condition  hasParkingSpace  hasBalcony  hasElevator  hasSecurity  \\\n0             NaN              yes         yes          yes           no   \n1             NaN               no         yes          yes           no   \n2             NaN               no          no           no           no   \n3             NaN              yes         yes           no           no   \n4             NaN               no          no           no           no   \n...           ...              ...         ...          ...          ...   \n195561        low               no          no           no           no   \n195562        NaN              yes          no           no           no   \n195564        NaN               no          no           no           no   \n195565        NaN               no          no           no           no   \n195567        NaN              yes          no           no           no   \n\n        hasStorageRoom   price  \n0                  yes  415000  \n1                  yes  395995  \n2                   no  565000  \n3                  yes  640000  \n4                   no  759000  \n...                ...     ...  \n195561             yes  599000  \n195562             yes  670000  \n195564             yes  499000  \n195565             yes  795000  \n195567             yes  300000  \n\n[153307 rows x 28 columns]",
      "text/html": "<div>\n<style scoped>\n    .dataframe tbody tr th:only-of-type {\n        vertical-align: middle;\n    }\n\n    .dataframe tbody tr th {\n        vertical-align: top;\n    }\n\n    .dataframe thead th {\n        text-align: right;\n    }\n</style>\n<table border=\"1\" class=\"dataframe\">\n  <thead>\n    <tr style=\"text-align: right;\">\n      <th></th>\n      <th>id</th>\n      <th>city</th>\n      <th>type</th>\n      <th>squareMeters</th>\n      <th>rooms</th>\n      <th>floor</th>\n      <th>floorCount</th>\n      <th>buildYear</th>\n      <th>latitude</th>\n      <th>longitude</th>\n      <th>...</th>\n      <th>pharmacyDistance</th>\n      <th>ownership</th>\n      <th>buildingMaterial</th>\n      <th>condition</th>\n      <th>hasParkingSpace</th>\n      <th>hasBalcony</th>\n      <th>hasElevator</th>\n      <th>hasSecurity</th>\n      <th>hasStorageRoom</th>\n      <th>price</th>\n    </tr>\n  </thead>\n  <tbody>\n    <tr>\n      <th>0</th>\n      <td>f8524536d4b09a0c8ccc0197ec9d7bde</td>\n      <td>szczecin</td>\n      <td>blockOfFlats</td>\n      <td>63.00</td>\n      <td>3.0</td>\n      <td>4.0</td>\n      <td>10.0</td>\n      <td>1980.0</td>\n      <td>53.378933</td>\n      <td>14.625296</td>\n      <td>...</td>\n      <td>0.413</td>\n      <td>condominium</td>\n      <td>concreteSlab</td>\n      <td>NaN</td>\n      <td>yes</td>\n      <td>yes</td>\n      <td>yes</td>\n      <td>no</td>\n      <td>yes</td>\n      <td>415000</td>\n    </tr>\n    <tr>\n      <th>1</th>\n      <td>accbe77d4b360fea9735f138a50608dd</td>\n      <td>szczecin</td>\n      <td>blockOfFlats</td>\n      <td>36.00</td>\n      <td>2.0</td>\n      <td>8.0</td>\n      <td>10.0</td>\n      <td>1990.0</td>\n      <td>53.442692</td>\n      <td>14.559690</td>\n      <td>...</td>\n      <td>0.205</td>\n      <td>cooperative</td>\n      <td>concreteSlab</td>\n      <td>NaN</td>\n      <td>no</td>\n      <td>yes</td>\n      <td>yes</td>\n      <td>no</td>\n      <td>yes</td>\n      <td>395995</td>\n    </tr>\n    <tr>\n      <th>2</th>\n      <td>8373aa373dbc3fe7ca3b7434166b8766</td>\n      <td>szczecin</td>\n      <td>tenement</td>\n      <td>73.02</td>\n      <td>3.0</td>\n      <td>2.0</td>\n      <td>3.0</td>\n      <td>1928.0</td>\n      <td>53.452222</td>\n      <td>14.553333</td>\n      <td>...</td>\n      <td>0.280</td>\n      <td>condominium</td>\n      <td>brick</td>\n      <td>NaN</td>\n      <td>no</td>\n      <td>no</td>\n      <td>no</td>\n      <td>no</td>\n      <td>no</td>\n      <td>565000</td>\n    </tr>\n    <tr>\n      <th>3</th>\n      <td>0a68cd14c44ec5140143ece75d739535</td>\n      <td>szczecin</td>\n      <td>tenement</td>\n      <td>87.60</td>\n      <td>3.0</td>\n      <td>2.0</td>\n      <td>3.0</td>\n      <td>1928.0</td>\n      <td>53.435100</td>\n      <td>14.532900</td>\n      <td>...</td>\n      <td>0.087</td>\n      <td>condominium</td>\n      <td>brick</td>\n      <td>NaN</td>\n      <td>yes</td>\n      <td>yes</td>\n      <td>no</td>\n      <td>no</td>\n      <td>yes</td>\n      <td>640000</td>\n    </tr>\n    <tr>\n      <th>4</th>\n      <td>f66320e153c2441edc0fe293b54c8aeb</td>\n      <td>szczecin</td>\n      <td>blockOfFlats</td>\n      <td>66.00</td>\n      <td>3.0</td>\n      <td>1.0</td>\n      <td>3.0</td>\n      <td>1990.0</td>\n      <td>53.410278</td>\n      <td>14.503611</td>\n      <td>...</td>\n      <td>0.514</td>\n      <td>condominium</td>\n      <td>NaN</td>\n      <td>NaN</td>\n      <td>no</td>\n      <td>no</td>\n      <td>no</td>\n      <td>no</td>\n      <td>no</td>\n      <td>759000</td>\n    </tr>\n    <tr>\n      <th>...</th>\n      <td>...</td>\n      <td>...</td>\n      <td>...</td>\n      <td>...</td>\n      <td>...</td>\n      <td>...</td>\n      <td>...</td>\n      <td>...</td>\n      <td>...</td>\n      <td>...</td>\n      <td>...</td>\n      <td>...</td>\n      <td>...</td>\n      <td>...</td>\n      <td>...</td>\n      <td>...</td>\n      <td>...</td>\n      <td>...</td>\n      <td>...</td>\n      <td>...</td>\n      <td>...</td>\n    </tr>\n    <tr>\n      <th>195561</th>\n      <td>43ba1ff7e0804730281149d62fc9a48b</td>\n      <td>bydgoszcz</td>\n      <td>tenement</td>\n      <td>95.00</td>\n      <td>4.0</td>\n      <td>1.0</td>\n      <td>3.0</td>\n      <td>1893.0</td>\n      <td>53.126000</td>\n      <td>18.007900</td>\n      <td>...</td>\n      <td>0.205</td>\n      <td>condominium</td>\n      <td>brick</td>\n      <td>low</td>\n      <td>no</td>\n      <td>no</td>\n      <td>no</td>\n      <td>no</td>\n      <td>yes</td>\n      <td>599000</td>\n    </tr>\n    <tr>\n      <th>195562</th>\n      <td>4d5c0e9d63750d4e7ff183460b3fc8d1</td>\n      <td>bydgoszcz</td>\n      <td>tenement</td>\n      <td>100.76</td>\n      <td>3.0</td>\n      <td>2.0</td>\n      <td>2.0</td>\n      <td>1896.0</td>\n      <td>53.131234</td>\n      <td>18.006248</td>\n      <td>...</td>\n      <td>0.331</td>\n      <td>condominium</td>\n      <td>brick</td>\n      <td>NaN</td>\n      <td>yes</td>\n      <td>no</td>\n      <td>no</td>\n      <td>no</td>\n      <td>yes</td>\n      <td>670000</td>\n    </tr>\n    <tr>\n      <th>195564</th>\n      <td>204c93689b7cdc62a17ef3c0dbf7034a</td>\n      <td>bydgoszcz</td>\n      <td>tenement</td>\n      <td>98.00</td>\n      <td>3.0</td>\n      <td>2.0</td>\n      <td>2.0</td>\n      <td>1925.0</td>\n      <td>53.124655</td>\n      <td>18.008459</td>\n      <td>...</td>\n      <td>0.273</td>\n      <td>condominium</td>\n      <td>brick</td>\n      <td>NaN</td>\n      <td>no</td>\n      <td>no</td>\n      <td>no</td>\n      <td>no</td>\n      <td>yes</td>\n      <td>499000</td>\n    </tr>\n    <tr>\n      <th>195565</th>\n      <td>bb19da639a2de8bba49be2ca49053c87</td>\n      <td>bydgoszcz</td>\n      <td>tenement</td>\n      <td>108.96</td>\n      <td>5.0</td>\n      <td>2.0</td>\n      <td>4.0</td>\n      <td>1889.0</td>\n      <td>53.131748</td>\n      <td>18.000648</td>\n      <td>...</td>\n      <td>0.143</td>\n      <td>condominium</td>\n      <td>brick</td>\n      <td>NaN</td>\n      <td>no</td>\n      <td>no</td>\n      <td>no</td>\n      <td>no</td>\n      <td>yes</td>\n      <td>795000</td>\n    </tr>\n    <tr>\n      <th>195567</th>\n      <td>60fcbfa2a2a48ebcc2e554efba7f2729</td>\n      <td>bydgoszcz</td>\n      <td>tenement</td>\n      <td>59.10</td>\n      <td>2.0</td>\n      <td>1.0</td>\n      <td>1.0</td>\n      <td>1910.0</td>\n      <td>53.126792</td>\n      <td>18.005991</td>\n      <td>...</td>\n      <td>0.101</td>\n      <td>condominium</td>\n      <td>brick</td>\n      <td>NaN</td>\n      <td>yes</td>\n      <td>no</td>\n      <td>no</td>\n      <td>no</td>\n      <td>yes</td>\n      <td>300000</td>\n    </tr>\n  </tbody>\n</table>\n<p>153307 rows × 28 columns</p>\n</div>"
     },
     "execution_count": 61,
     "metadata": {},
     "output_type": "execute_result"
    }
   ],
   "source": [
    "houses_dataframe"
   ],
   "metadata": {
    "collapsed": false,
    "ExecuteTime": {
     "end_time": "2024-08-21T11:47:05.485150Z",
     "start_time": "2024-08-21T11:47:05.256980900Z"
    }
   }
  },
  {
   "cell_type": "code",
   "execution_count": 62,
   "outputs": [],
   "source": [
    "houses_dataframe=houses_dataframe.drop(columns=['condition'])\n",
    "houses_dataframe['postOfficeDistance']=houses_dataframe['postOfficeDistance'].fillna(houses_dataframe.groupby('type')['postOfficeDistance'].transform('mean'))\n",
    "houses_dataframe['schoolDistance']=houses_dataframe['schoolDistance'].fillna(houses_dataframe.groupby('type')['schoolDistance'].transform('mean'))\n",
    "houses_dataframe['kindergartenDistance']=houses_dataframe['kindergartenDistance'].fillna(houses_dataframe.groupby('type')['kindergartenDistance'].transform('mean'))\n",
    "houses_dataframe['collegeDistance']=houses_dataframe['collegeDistance'].fillna(houses_dataframe.groupby('type')['collegeDistance'].transform('mean'))\n",
    "houses_dataframe['clinicDistance']=houses_dataframe['clinicDistance'].fillna(houses_dataframe.groupby('type')['clinicDistance'].transform('mean'))\n",
    "houses_dataframe['restaurantDistance']=houses_dataframe['restaurantDistance'].fillna(houses_dataframe.groupby('type')['restaurantDistance'].transform('mean'))\n",
    "houses_dataframe['pharmacyDistance']=houses_dataframe['pharmacyDistance'].fillna(houses_dataframe.groupby('type')['pharmacyDistance'].transform('mean'))\n"
   ],
   "metadata": {
    "collapsed": false,
    "ExecuteTime": {
     "end_time": "2024-08-21T11:47:05.687539200Z",
     "start_time": "2024-08-21T11:47:05.486147400Z"
    }
   }
  },
  {
   "cell_type": "code",
   "execution_count": 63,
   "outputs": [
    {
     "data": {
      "text/plain": "id                          0\ncity                        0\ntype                        0\nsquareMeters                0\nrooms                       0\nfloor                       0\nfloorCount                  0\nbuildYear                   0\nlatitude                    0\nlongitude                   0\ncentreDistance              0\npoiCount                    0\nschoolDistance              0\nclinicDistance              0\npostOfficeDistance          0\nkindergartenDistance        0\nrestaurantDistance          0\ncollegeDistance             0\npharmacyDistance            0\nownership                   0\nbuildingMaterial        44519\nhasParkingSpace             0\nhasBalcony                  0\nhasElevator              5085\nhasSecurity                 0\nhasStorageRoom              0\nprice                       0\ndtype: int64"
     },
     "execution_count": 63,
     "metadata": {},
     "output_type": "execute_result"
    }
   ],
   "source": [
    "houses_dataframe.isna().sum()"
   ],
   "metadata": {
    "collapsed": false,
    "ExecuteTime": {
     "end_time": "2024-08-21T11:47:05.747238800Z",
     "start_time": "2024-08-21T11:47:05.658595500Z"
    }
   }
  },
  {
   "cell_type": "code",
   "execution_count": 64,
   "outputs": [],
   "source": [
    "mode=lambda x: x.mode()[0] if not x.mode().empty else np.nan\n",
    "houses_dataframe['buildingMaterial']=houses_dataframe['buildingMaterial'].fillna(houses_dataframe.groupby('type')['buildingMaterial'].transform(mode))"
   ],
   "metadata": {
    "collapsed": false,
    "ExecuteTime": {
     "end_time": "2024-08-21T11:47:05.911547900Z",
     "start_time": "2024-08-21T11:47:05.746241900Z"
    }
   }
  },
  {
   "cell_type": "code",
   "execution_count": 65,
   "outputs": [
    {
     "data": {
      "text/plain": "id                         0\ncity                       0\ntype                       0\nsquareMeters               0\nrooms                      0\nfloor                      0\nfloorCount                 0\nbuildYear                  0\nlatitude                   0\nlongitude                  0\ncentreDistance             0\npoiCount                   0\nschoolDistance             0\nclinicDistance             0\npostOfficeDistance         0\nkindergartenDistance       0\nrestaurantDistance         0\ncollegeDistance            0\npharmacyDistance           0\nownership                  0\nbuildingMaterial           0\nhasParkingSpace            0\nhasBalcony                 0\nhasElevator             5085\nhasSecurity                0\nhasStorageRoom             0\nprice                      0\ndtype: int64"
     },
     "execution_count": 65,
     "metadata": {},
     "output_type": "execute_result"
    }
   ],
   "source": [
    "houses_dataframe.isna().sum()"
   ],
   "metadata": {
    "collapsed": false,
    "ExecuteTime": {
     "end_time": "2024-08-21T11:47:06.075363500Z",
     "start_time": "2024-08-21T11:47:05.913542100Z"
    }
   }
  },
  {
   "cell_type": "code",
   "execution_count": 66,
   "outputs": [
    {
     "data": {
      "text/plain": "                                      id       city          type  \\\n0       f8524536d4b09a0c8ccc0197ec9d7bde   szczecin  blockOfFlats   \n1       accbe77d4b360fea9735f138a50608dd   szczecin  blockOfFlats   \n2       8373aa373dbc3fe7ca3b7434166b8766   szczecin      tenement   \n3       0a68cd14c44ec5140143ece75d739535   szczecin      tenement   \n4       f66320e153c2441edc0fe293b54c8aeb   szczecin  blockOfFlats   \n...                                  ...        ...           ...   \n195561  43ba1ff7e0804730281149d62fc9a48b  bydgoszcz      tenement   \n195562  4d5c0e9d63750d4e7ff183460b3fc8d1  bydgoszcz      tenement   \n195564  204c93689b7cdc62a17ef3c0dbf7034a  bydgoszcz      tenement   \n195565  bb19da639a2de8bba49be2ca49053c87  bydgoszcz      tenement   \n195567  60fcbfa2a2a48ebcc2e554efba7f2729  bydgoszcz      tenement   \n\n        squareMeters  rooms  floor  floorCount  buildYear   latitude  \\\n0              63.00    3.0    4.0        10.0     1980.0  53.378933   \n1              36.00    2.0    8.0        10.0     1990.0  53.442692   \n2              73.02    3.0    2.0         3.0     1928.0  53.452222   \n3              87.60    3.0    2.0         3.0     1928.0  53.435100   \n4              66.00    3.0    1.0         3.0     1990.0  53.410278   \n...              ...    ...    ...         ...        ...        ...   \n195561         95.00    4.0    1.0         3.0     1893.0  53.126000   \n195562        100.76    3.0    2.0         2.0     1896.0  53.131234   \n195564         98.00    3.0    2.0         2.0     1925.0  53.124655   \n195565        108.96    5.0    2.0         4.0     1889.0  53.131748   \n195567         59.10    2.0    1.0         1.0     1910.0  53.126792   \n\n        longitude  ...  collegeDistance  pharmacyDistance    ownership  \\\n0       14.625296  ...         1.584766             0.413  condominium   \n1       14.559690  ...         1.404000             0.205  cooperative   \n2       14.553333  ...         1.857000             0.280  condominium   \n3       14.532900  ...         0.310000             0.087  condominium   \n4       14.503611  ...         2.138000             0.514  condominium   \n...           ...  ...              ...               ...          ...   \n195561  18.007900  ...         0.622000             0.205  condominium   \n195562  18.006248  ...         0.098000             0.331  condominium   \n195564  18.008459  ...         0.478000             0.273  condominium   \n195565  18.000648  ...         0.226000             0.143  condominium   \n195567  18.005991  ...         0.557000             0.101  condominium   \n\n        buildingMaterial  hasParkingSpace  hasBalcony  hasElevator  \\\n0           concreteSlab              yes         yes          yes   \n1           concreteSlab               no         yes          yes   \n2                  brick               no          no           no   \n3                  brick              yes         yes           no   \n4                  brick               no          no           no   \n...                  ...              ...         ...          ...   \n195561             brick               no          no           no   \n195562             brick              yes          no           no   \n195564             brick               no          no           no   \n195565             brick               no          no           no   \n195567             brick              yes          no           no   \n\n        hasSecurity  hasStorageRoom   price  \n0                no             yes  415000  \n1                no             yes  395995  \n2                no              no  565000  \n3                no             yes  640000  \n4                no              no  759000  \n...             ...             ...     ...  \n195561           no             yes  599000  \n195562           no             yes  670000  \n195564           no             yes  499000  \n195565           no             yes  795000  \n195567           no             yes  300000  \n\n[153307 rows x 27 columns]",
      "text/html": "<div>\n<style scoped>\n    .dataframe tbody tr th:only-of-type {\n        vertical-align: middle;\n    }\n\n    .dataframe tbody tr th {\n        vertical-align: top;\n    }\n\n    .dataframe thead th {\n        text-align: right;\n    }\n</style>\n<table border=\"1\" class=\"dataframe\">\n  <thead>\n    <tr style=\"text-align: right;\">\n      <th></th>\n      <th>id</th>\n      <th>city</th>\n      <th>type</th>\n      <th>squareMeters</th>\n      <th>rooms</th>\n      <th>floor</th>\n      <th>floorCount</th>\n      <th>buildYear</th>\n      <th>latitude</th>\n      <th>longitude</th>\n      <th>...</th>\n      <th>collegeDistance</th>\n      <th>pharmacyDistance</th>\n      <th>ownership</th>\n      <th>buildingMaterial</th>\n      <th>hasParkingSpace</th>\n      <th>hasBalcony</th>\n      <th>hasElevator</th>\n      <th>hasSecurity</th>\n      <th>hasStorageRoom</th>\n      <th>price</th>\n    </tr>\n  </thead>\n  <tbody>\n    <tr>\n      <th>0</th>\n      <td>f8524536d4b09a0c8ccc0197ec9d7bde</td>\n      <td>szczecin</td>\n      <td>blockOfFlats</td>\n      <td>63.00</td>\n      <td>3.0</td>\n      <td>4.0</td>\n      <td>10.0</td>\n      <td>1980.0</td>\n      <td>53.378933</td>\n      <td>14.625296</td>\n      <td>...</td>\n      <td>1.584766</td>\n      <td>0.413</td>\n      <td>condominium</td>\n      <td>concreteSlab</td>\n      <td>yes</td>\n      <td>yes</td>\n      <td>yes</td>\n      <td>no</td>\n      <td>yes</td>\n      <td>415000</td>\n    </tr>\n    <tr>\n      <th>1</th>\n      <td>accbe77d4b360fea9735f138a50608dd</td>\n      <td>szczecin</td>\n      <td>blockOfFlats</td>\n      <td>36.00</td>\n      <td>2.0</td>\n      <td>8.0</td>\n      <td>10.0</td>\n      <td>1990.0</td>\n      <td>53.442692</td>\n      <td>14.559690</td>\n      <td>...</td>\n      <td>1.404000</td>\n      <td>0.205</td>\n      <td>cooperative</td>\n      <td>concreteSlab</td>\n      <td>no</td>\n      <td>yes</td>\n      <td>yes</td>\n      <td>no</td>\n      <td>yes</td>\n      <td>395995</td>\n    </tr>\n    <tr>\n      <th>2</th>\n      <td>8373aa373dbc3fe7ca3b7434166b8766</td>\n      <td>szczecin</td>\n      <td>tenement</td>\n      <td>73.02</td>\n      <td>3.0</td>\n      <td>2.0</td>\n      <td>3.0</td>\n      <td>1928.0</td>\n      <td>53.452222</td>\n      <td>14.553333</td>\n      <td>...</td>\n      <td>1.857000</td>\n      <td>0.280</td>\n      <td>condominium</td>\n      <td>brick</td>\n      <td>no</td>\n      <td>no</td>\n      <td>no</td>\n      <td>no</td>\n      <td>no</td>\n      <td>565000</td>\n    </tr>\n    <tr>\n      <th>3</th>\n      <td>0a68cd14c44ec5140143ece75d739535</td>\n      <td>szczecin</td>\n      <td>tenement</td>\n      <td>87.60</td>\n      <td>3.0</td>\n      <td>2.0</td>\n      <td>3.0</td>\n      <td>1928.0</td>\n      <td>53.435100</td>\n      <td>14.532900</td>\n      <td>...</td>\n      <td>0.310000</td>\n      <td>0.087</td>\n      <td>condominium</td>\n      <td>brick</td>\n      <td>yes</td>\n      <td>yes</td>\n      <td>no</td>\n      <td>no</td>\n      <td>yes</td>\n      <td>640000</td>\n    </tr>\n    <tr>\n      <th>4</th>\n      <td>f66320e153c2441edc0fe293b54c8aeb</td>\n      <td>szczecin</td>\n      <td>blockOfFlats</td>\n      <td>66.00</td>\n      <td>3.0</td>\n      <td>1.0</td>\n      <td>3.0</td>\n      <td>1990.0</td>\n      <td>53.410278</td>\n      <td>14.503611</td>\n      <td>...</td>\n      <td>2.138000</td>\n      <td>0.514</td>\n      <td>condominium</td>\n      <td>brick</td>\n      <td>no</td>\n      <td>no</td>\n      <td>no</td>\n      <td>no</td>\n      <td>no</td>\n      <td>759000</td>\n    </tr>\n    <tr>\n      <th>...</th>\n      <td>...</td>\n      <td>...</td>\n      <td>...</td>\n      <td>...</td>\n      <td>...</td>\n      <td>...</td>\n      <td>...</td>\n      <td>...</td>\n      <td>...</td>\n      <td>...</td>\n      <td>...</td>\n      <td>...</td>\n      <td>...</td>\n      <td>...</td>\n      <td>...</td>\n      <td>...</td>\n      <td>...</td>\n      <td>...</td>\n      <td>...</td>\n      <td>...</td>\n      <td>...</td>\n    </tr>\n    <tr>\n      <th>195561</th>\n      <td>43ba1ff7e0804730281149d62fc9a48b</td>\n      <td>bydgoszcz</td>\n      <td>tenement</td>\n      <td>95.00</td>\n      <td>4.0</td>\n      <td>1.0</td>\n      <td>3.0</td>\n      <td>1893.0</td>\n      <td>53.126000</td>\n      <td>18.007900</td>\n      <td>...</td>\n      <td>0.622000</td>\n      <td>0.205</td>\n      <td>condominium</td>\n      <td>brick</td>\n      <td>no</td>\n      <td>no</td>\n      <td>no</td>\n      <td>no</td>\n      <td>yes</td>\n      <td>599000</td>\n    </tr>\n    <tr>\n      <th>195562</th>\n      <td>4d5c0e9d63750d4e7ff183460b3fc8d1</td>\n      <td>bydgoszcz</td>\n      <td>tenement</td>\n      <td>100.76</td>\n      <td>3.0</td>\n      <td>2.0</td>\n      <td>2.0</td>\n      <td>1896.0</td>\n      <td>53.131234</td>\n      <td>18.006248</td>\n      <td>...</td>\n      <td>0.098000</td>\n      <td>0.331</td>\n      <td>condominium</td>\n      <td>brick</td>\n      <td>yes</td>\n      <td>no</td>\n      <td>no</td>\n      <td>no</td>\n      <td>yes</td>\n      <td>670000</td>\n    </tr>\n    <tr>\n      <th>195564</th>\n      <td>204c93689b7cdc62a17ef3c0dbf7034a</td>\n      <td>bydgoszcz</td>\n      <td>tenement</td>\n      <td>98.00</td>\n      <td>3.0</td>\n      <td>2.0</td>\n      <td>2.0</td>\n      <td>1925.0</td>\n      <td>53.124655</td>\n      <td>18.008459</td>\n      <td>...</td>\n      <td>0.478000</td>\n      <td>0.273</td>\n      <td>condominium</td>\n      <td>brick</td>\n      <td>no</td>\n      <td>no</td>\n      <td>no</td>\n      <td>no</td>\n      <td>yes</td>\n      <td>499000</td>\n    </tr>\n    <tr>\n      <th>195565</th>\n      <td>bb19da639a2de8bba49be2ca49053c87</td>\n      <td>bydgoszcz</td>\n      <td>tenement</td>\n      <td>108.96</td>\n      <td>5.0</td>\n      <td>2.0</td>\n      <td>4.0</td>\n      <td>1889.0</td>\n      <td>53.131748</td>\n      <td>18.000648</td>\n      <td>...</td>\n      <td>0.226000</td>\n      <td>0.143</td>\n      <td>condominium</td>\n      <td>brick</td>\n      <td>no</td>\n      <td>no</td>\n      <td>no</td>\n      <td>no</td>\n      <td>yes</td>\n      <td>795000</td>\n    </tr>\n    <tr>\n      <th>195567</th>\n      <td>60fcbfa2a2a48ebcc2e554efba7f2729</td>\n      <td>bydgoszcz</td>\n      <td>tenement</td>\n      <td>59.10</td>\n      <td>2.0</td>\n      <td>1.0</td>\n      <td>1.0</td>\n      <td>1910.0</td>\n      <td>53.126792</td>\n      <td>18.005991</td>\n      <td>...</td>\n      <td>0.557000</td>\n      <td>0.101</td>\n      <td>condominium</td>\n      <td>brick</td>\n      <td>yes</td>\n      <td>no</td>\n      <td>no</td>\n      <td>no</td>\n      <td>yes</td>\n      <td>300000</td>\n    </tr>\n  </tbody>\n</table>\n<p>153307 rows × 27 columns</p>\n</div>"
     },
     "execution_count": 66,
     "metadata": {},
     "output_type": "execute_result"
    }
   ],
   "source": [
    "houses_dataframe"
   ],
   "metadata": {
    "collapsed": false,
    "ExecuteTime": {
     "end_time": "2024-08-21T11:47:06.607623Z",
     "start_time": "2024-08-21T11:47:06.126150200Z"
    }
   }
  },
  {
   "cell_type": "code",
   "execution_count": 67,
   "outputs": [],
   "source": [
    "houses_dataframe['hasElevator']=houses_dataframe['hasElevator'].fillna('no')"
   ],
   "metadata": {
    "collapsed": false,
    "ExecuteTime": {
     "end_time": "2024-08-21T11:47:06.617294700Z",
     "start_time": "2024-08-21T11:47:06.606650Z"
    }
   }
  },
  {
   "cell_type": "code",
   "execution_count": 68,
   "outputs": [
    {
     "data": {
      "text/plain": "id                      0\ncity                    0\ntype                    0\nsquareMeters            0\nrooms                   0\nfloor                   0\nfloorCount              0\nbuildYear               0\nlatitude                0\nlongitude               0\ncentreDistance          0\npoiCount                0\nschoolDistance          0\nclinicDistance          0\npostOfficeDistance      0\nkindergartenDistance    0\nrestaurantDistance      0\ncollegeDistance         0\npharmacyDistance        0\nownership               0\nbuildingMaterial        0\nhasParkingSpace         0\nhasBalcony              0\nhasElevator             0\nhasSecurity             0\nhasStorageRoom          0\nprice                   0\ndtype: int64"
     },
     "execution_count": 68,
     "metadata": {},
     "output_type": "execute_result"
    }
   ],
   "source": [
    "houses_dataframe.isna().sum()"
   ],
   "metadata": {
    "collapsed": false,
    "ExecuteTime": {
     "end_time": "2024-08-21T11:47:06.847749400Z",
     "start_time": "2024-08-21T11:47:06.620317600Z"
    }
   }
  }
 ],
 "metadata": {
  "kernelspec": {
   "display_name": "Python 3",
   "language": "python",
   "name": "python3"
  },
  "language_info": {
   "codemirror_mode": {
    "name": "ipython",
    "version": 2
   },
   "file_extension": ".py",
   "mimetype": "text/x-python",
   "name": "python",
   "nbconvert_exporter": "python",
   "pygments_lexer": "ipython2",
   "version": "2.7.6"
  }
 },
 "nbformat": 4,
 "nbformat_minor": 0
}
